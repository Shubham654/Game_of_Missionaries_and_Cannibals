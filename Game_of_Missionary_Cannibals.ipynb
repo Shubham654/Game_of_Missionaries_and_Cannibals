{
  "nbformat": 4,
  "nbformat_minor": 0,
  "metadata": {
    "kernelspec": {
      "display_name": "Python 3",
      "language": "python",
      "name": "python3"
    },
    "language_info": {
      "codemirror_mode": {
        "name": "ipython",
        "version": 3
      },
      "file_extension": ".py",
      "mimetype": "text/x-python",
      "name": "python",
      "nbconvert_exporter": "python",
      "pygments_lexer": "ipython3",
      "version": "3.8.5-final"
    },
    "toc": {
      "base_numbering": 1,
      "nav_menu": {},
      "number_sections": true,
      "sideBar": true,
      "skip_h1_title": false,
      "title_cell": "Table of Contents",
      "title_sidebar": "Contents",
      "toc_cell": false,
      "toc_position": {},
      "toc_section_display": true,
      "toc_window_display": false
    },
    "colab": {
      "name": "Game of Missionary_Cannibals.ipynb",
      "provenance": [],
      "collapsed_sections": []
    }
  },
  "cells": [
    {
      "cell_type": "code",
      "execution_count": 13,
      "metadata": {},
      "outputs": [],
      "source": [
        "def display_screen():\n",
        "    for x in range(missionary_on_left ):\n",
        "        print('\\U0001f482', end=\"\")\n",
        "    for x in range(cannibals_on_left):\n",
        "        print('\\U0001f479', end=\"\")\n",
        "    if boat_side == \"Right\":\n",
        "        print(\"|\" + ('\\U0001f30a'*5), end=\"\")\n",
        "        print('\\U0001f6A2', end='' + '|')\n",
        "    if boat_side == \"Left\":\n",
        "        print( '|' + '\\U0001f6A2', end='' )\n",
        "        print(  ('\\U0001f30a'*5), end=\"\" + \"|\")\n",
        "\n",
        "    for x in range(missionary_on_right):\n",
        "        print('\\U0001f482', end=\"\")\n",
        "    for x in range(cannibals_on_right):\n",
        "        print('\\U0001f479', end=\"\")"
      ]
    },
    {
      "cell_type": "code",
      "metadata": {
        "id": "LPMjEVlkQog6"
      },
      "source": [
        "from IPython.display import clear_output\n",
        "boat_side = 'Right'\n",
        "missionary_on_right = 3\n",
        "cannibals_on_right = 3\n",
        "missionary_on_left = 0\n",
        "cannibals_on_left = 0\n",
        "\n",
        "display_screen()\n",
        "while True:\n",
        "    missionary = int(input(\"Enter number of Missionary in boat on \"+ boat_side + \":\"))\n",
        "    cannibals = int(input(\"Enter number of Cannibals in boat on \" + boat_side + \":\"))\n",
        "    clear_output()\n",
        "    \n",
        "    #Maximum number of people one the boat should be 1 or 2\n",
        "    if (missionary+cannibals) != 1 and (missionary+cannibals) != 2:\n",
        "        print(\"Invalid move\")\n",
        "        continue\n",
        "  \n",
        "    #Turn based decisions\n",
        "    if boat_side == \"Right\":\n",
        "        if missionary > missionary_on_right or cannibals > cannibals_on_right:\n",
        "            print(\"Invalid move\")\n",
        "            continue\n",
        "          \n",
        "        missionary_on_right -= missionary\n",
        "        cannibals_on_right -= cannibals\n",
        "        missionary_on_left += missionary\n",
        "        cannibals_on_left += cannibals\n",
        "        \n",
        "        boat_side = \"Left\"\n",
        "        display_screen()\n",
        "\n",
        "    else:\n",
        "        if missionary > missionary_on_left or cannibals > cannibals_on_left:\n",
        "            print(\"Invalid move\")\n",
        "            continue\n",
        "          \n",
        "        missionary_on_right += missionary\n",
        "        cannibals_on_right += cannibals\n",
        "        missionary_on_left -= missionary\n",
        "        cannibals_on_left -= cannibals\n",
        "        \n",
        "        boat_side = \"Right\"\n",
        "        display_screen()\n",
        "    \n",
        "    #condition for losing\n",
        "    if (missionary_on_right != 0 and missionary_on_right < cannibals_on_right) or (missionary_on_left != 0 and missionary_on_left < cannibals_on_left):\n",
        "        print(\"\\n ===YOU LOSE===\")\n",
        "        break\n",
        "\n",
        "    #condition for winning\n",
        "    if missionary_on_left == 3 and cannibals_on_left == 3:\n",
        "        print(\"YOU WIN\")\n",
        "        print(\"Thank You for playing!\")\n",
        "        print(\"Made with\" + \"\\u2764\\ufe0f\" + \" \"+\" by Shubham\")\n",
        "        break\n",
        "print(\"===GAME OVER===\")"
      ],
      "execution_count": 14,
      "outputs": [
        {
          "output_type": "stream",
          "name": "stdout",
          "text": [
            "💂|🌊🌊🌊🌊🌊🚢|💂💂👹👹👹YOU LOSE\nGAME OVER\n"
          ]
        }
      ]
    },
    {
      "cell_type": "code",
      "execution_count": null,
      "metadata": {},
      "outputs": [],
      "source": []
    }
  ]
}